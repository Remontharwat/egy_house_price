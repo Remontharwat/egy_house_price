{
 "cells": [
  {
   "cell_type": "code",
   "execution_count": 4,
   "id": "f20b4dbc",
   "metadata": {},
   "outputs": [],
   "source": [
    "import streamlit as st\n",
    "import joblib\n",
    "import pandas as pd"
   ]
  },
  {
   "cell_type": "code",
   "execution_count": 1,
   "id": "037f1c7a",
   "metadata": {},
   "outputs": [
    {
     "name": "stdout",
     "output_type": "stream",
     "text": [
      "Overwriting Remon.py\n"
     ]
    }
   ],
   "source": [
    "%%writefile Remon.py\n",
    "\n",
    "import pandas as pd\n",
    "import streamlit as st\n",
    "import joblib\n",
    "import numpy as np\n",
    "from sklearn.compose import ColumnTransformer\n",
    "from category_encoders import BinaryEncoder\n",
    "from sklearn.preprocessing import StandardScaler , RobustScaler , MinMaxScaler , OneHotEncoder ,PolynomialFeatures\n",
    "from sklearn.tree import DecisionTreeRegressor\n",
    "from sklearn.svm import LinearSVC\n",
    "from sklearn.linear_model import LinearRegression ,Ridge ,Lasso\n",
    "from sklearn.neighbors import KNeighborsRegressor\n",
    "from sklearn.pipeline import Pipeline\n",
    "from sklearn.model_selection import cross_val_score, GridSearchCV ,cross_validate\n",
    "from sklearn.ensemble import RandomForestRegressor , VotingRegressor\n",
    "from sklearn.metrics import mean_absolute_error , mean_squared_error ,r2_score\n",
    "from xgboost import XGBRFRegressor\n",
    "\n",
    "pipeline=joblib.load('Price Prediction ML model.h5')\n",
    "inputs=joblib.load('input.h5')\n",
    "\n",
    "\n",
    "def predict(Type, Bedrooms, Bathrooms, Area, Furnished, Level,Payment_Option, Delivery_Term):\n",
    "    test_df=pd.DataFrame(columns=inputs)\n",
    "    test_df.at[0,'Type']=Type\n",
    "    test_df.at[0,'Bedrooms']=Bedrooms\n",
    "    test_df.at[0,'Bathrooms']=Bathrooms\n",
    "    test_df.at[0,'Area']=Area\n",
    "    test_df.at[0,'Furnished']=Furnished\n",
    "    test_df.at[0,'Level']=Level\n",
    "    test_df.at[0,'Payment_Option']=Payment_Option\n",
    "    test_df.at[0,'Delivery_Term']=Delivery_Term\n",
    "    \n",
    "    log_result= pipeline.predict(test_df)[0]\n",
    "    result = np.exp(log_result())\n",
    "    return result\n",
    "\n",
    "def main():\n",
    "    st.image('image.jpg')\n",
    "    st.title('Egyption House Price Prediction')\n",
    "    Type= st.selectbox('Type',['Apartment','Chalet','Stand Alone Villa','Town House','Twin House','Duplex','Penthouse','Studio'])\n",
    "    Bedrooms= st.slider('Bedrooms',min_value= 1,max_value= 10,value=1,step=1)\n",
    "    Bathrooms= st.slider('Bathrooms',min_value= 1,max_value= 10,value=1,step=1)\n",
    "    Area= st.slider('Area',min_value= 25,max_value= 1000,value=100,step=1)\n",
    "    Furnished= st.selectbox('Furnished',['No', 'Yes'])\n",
    "    Level= st.slider('Level',min_value= 0,max_value= 12,value=0,step=1)\n",
    "    Payment_Option= st.selectbox('Payment_Option',['Cash', 'Cash or Installment', 'Installment'])\n",
    "    Delivery_Term= st.selectbox('Delivery_Term',['Finished', 'Semi Finished', 'Core & Shell', 'Not Finished'])\n",
    "    \n",
    "\n",
    "    if st.button('predict'):\n",
    "        result=predict(Type, Bedrooms, Bathrooms, Area, Furnished, Level,Payment_Option, Delivery_Term)\n",
    "        st.write(\"Unit price is : \".format(result))\n",
    "if __name__ =='__main__':\n",
    "    main()"
   ]
  },
  {
   "cell_type": "code",
   "execution_count": null,
   "id": "80ec883d",
   "metadata": {},
   "outputs": [],
   "source": [
    "!streamlit run Remon.py"
   ]
  },
  {
   "cell_type": "code",
   "execution_count": null,
   "id": "24b42000",
   "metadata": {},
   "outputs": [],
   "source": []
  }
 ],
 "metadata": {
  "kernelspec": {
   "display_name": "Python 3 (ipykernel)",
   "language": "python",
   "name": "python3"
  },
  "language_info": {
   "codemirror_mode": {
    "name": "ipython",
    "version": 3
   },
   "file_extension": ".py",
   "mimetype": "text/x-python",
   "name": "python",
   "nbconvert_exporter": "python",
   "pygments_lexer": "ipython3",
   "version": "3.9.12"
  }
 },
 "nbformat": 4,
 "nbformat_minor": 5
}
